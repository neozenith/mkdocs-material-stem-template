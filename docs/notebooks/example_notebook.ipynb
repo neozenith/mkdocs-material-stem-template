{
 "cells": [
  {
   "cell_type": "markdown",
   "id": "57ad6369-1af1-4f83-8784-fb7856a6a49b",
   "metadata": {},
   "source": [
    "# Notebooks\n",
    "\n",
    "This is an example Jupyter Notebook that gets rendered into the static site output content with no extra effort"
   ]
  },
  {
   "cell_type": "code",
   "execution_count": 8,
   "id": "54881c7b-d0a7-47c0-b9a5-1c94997fea16",
   "metadata": {},
   "outputs": [
    {
     "name": "stdout",
     "output_type": "stream",
     "text": [
      "Darwin\n"
     ]
    }
   ],
   "source": [
    "import platform\n",
    "\n",
    "print(platform.system())"
   ]
  },
  {
   "cell_type": "code",
   "execution_count": null,
   "id": "709b8366-404d-4bc4-9af4-79e41093c721",
   "metadata": {},
   "outputs": [],
   "source": []
  }
 ],
 "metadata": {
  "kernelspec": {
   "display_name": "Python 3 (ipykernel)",
   "language": "python",
   "name": "python3"
  },
  "language_info": {
   "codemirror_mode": {
    "name": "ipython",
    "version": 3
   },
   "file_extension": ".py",
   "mimetype": "text/x-python",
   "name": "python",
   "nbconvert_exporter": "python",
   "pygments_lexer": "ipython3",
   "version": "3.10.13"
  }
 },
 "nbformat": 4,
 "nbformat_minor": 5
}
